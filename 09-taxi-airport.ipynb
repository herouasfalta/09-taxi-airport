{
 "cells": [
  {
   "cell_type": "markdown",
   "metadata": {
    "toc": true
   },
   "source": [
    "<h1>Содержание<span class=\"tocSkip\"></span></h1>\n",
    "<div class=\"toc\"><ul class=\"toc-item\"><li><span><a href=\"#Подготовка\" data-toc-modified-id=\"Подготовка-1\"><span class=\"toc-item-num\">1&nbsp;&nbsp;</span>Подготовка</a></span><ul class=\"toc-item\"><li><span><a href=\"#Проверяю-данные-на-наличие-пропусков\" data-toc-modified-id=\"Проверяю-данные-на-наличие-пропусков-1.1\"><span class=\"toc-item-num\">1.1&nbsp;&nbsp;</span>Проверяю данные на наличие пропусков</a></span></li></ul></li><li><span><a href=\"#Анализ\" data-toc-modified-id=\"Анализ-2\"><span class=\"toc-item-num\">2&nbsp;&nbsp;</span>Анализ</a></span><ul class=\"toc-item\"><li><span><a href=\"#Строю-график-скользящего-среднего-с-окном,-равным-7,-и-график-о-заказах-такси-в-аэропортах-(с-ресемплированием-в-1-день).\" data-toc-modified-id=\"Строю-график-скользящего-среднего-с-окном,-равным-7,-и-график-о-заказах-такси-в-аэропортах-(с-ресемплированием-в-1-день).-2.1\"><span class=\"toc-item-num\">2.1&nbsp;&nbsp;</span>Строю график скользящего среднего с окном, равным 7, и график о заказах такси в аэропортах (с ресемплированием в 1 день).</a></span></li><li><span><a href=\"#Строю-график-сезонности\" data-toc-modified-id=\"Строю-график-сезонности-2.2\"><span class=\"toc-item-num\">2.2&nbsp;&nbsp;</span>Строю график сезонности</a></span></li></ul></li><li><span><a href=\"#Обучение\" data-toc-modified-id=\"Обучение-3\"><span class=\"toc-item-num\">3&nbsp;&nbsp;</span>Обучение</a></span><ul class=\"toc-item\"><li><span><a href=\"#Запускаю-модель-линейной-регрессии\" data-toc-modified-id=\"Запускаю-модель-линейной-регрессии-3.1\"><span class=\"toc-item-num\">3.1&nbsp;&nbsp;</span>Запускаю модель линейной регрессии</a></span></li><li><span><a href=\"#Исследую-модель-случайного-леса\" data-toc-modified-id=\"Исследую-модель-случайного-леса-3.2\"><span class=\"toc-item-num\">3.2&nbsp;&nbsp;</span>Исследую модель случайного леса</a></span></li><li><span><a href=\"#Исследую-модель-LightGBM\" data-toc-modified-id=\"Исследую-модель-LightGBM-3.3\"><span class=\"toc-item-num\">3.3&nbsp;&nbsp;</span>Исследую модель LightGBM</a></span></li></ul></li><li><span><a href=\"#Тестирование\" data-toc-modified-id=\"Тестирование-4\"><span class=\"toc-item-num\">4&nbsp;&nbsp;</span>Тестирование</a></span></li><li><span><a href=\"#Вывод\" data-toc-modified-id=\"Вывод-5\"><span class=\"toc-item-num\">5&nbsp;&nbsp;</span>Вывод</a></span></li><li><span><a href=\"#Чек-лист-проверки\" data-toc-modified-id=\"Чек-лист-проверки-6\"><span class=\"toc-item-num\">6&nbsp;&nbsp;</span>Чек-лист проверки</a></span></li></ul></div>"
   ]
  },
  {
   "cell_type": "markdown",
   "metadata": {},
   "source": [
    "Описание проекта\n",
    "\n",
    "Компания «Чётенькое такси» собрала исторические данные о заказах такси в аэропортах. Чтобы привлекать больше водителей в период пиковой нагрузки, нужно спрогнозировать количество заказов такси на следующий час. Постройте модель для такого предсказания.\n",
    "Значение метрики RMSE на тестовой выборке должно быть не больше 48."
   ]
  },
  {
   "cell_type": "markdown",
   "metadata": {},
   "source": [
    "#  Прогнозирование заказов такси"
   ]
  },
  {
   "cell_type": "markdown",
   "metadata": {},
   "source": [
    "Компания «Чётенькое такси» собрала исторические данные о заказах такси в аэропортах. Чтобы привлекать больше водителей в период пиковой нагрузки, нужно спрогнозировать количество заказов такси на следующий час. Постройте модель для такого предсказания.\n",
    "\n",
    "Значение метрики *RMSE* на тестовой выборке должно быть не больше 48.\n",
    "\n",
    "Вам нужно:\n",
    "\n",
    "1. Загрузить данные и выполнить их ресемплирование по одному часу.\n",
    "2. Проанализировать данные.\n",
    "3. Обучить разные модели с различными гиперпараметрами. Сделать тестовую выборку размером 10% от исходных данных.\n",
    "4. Проверить данные на тестовой выборке и сделать выводы.\n",
    "\n",
    "\n",
    "Данные лежат в файле `taxi.csv`. Количество заказов находится в столбце `num_orders` (от англ. *number of orders*, «число заказов»)."
   ]
  },
  {
   "cell_type": "markdown",
   "metadata": {},
   "source": [
    "## Подготовка"
   ]
  },
  {
   "cell_type": "code",
   "execution_count": 1,
   "metadata": {},
   "outputs": [],
   "source": [
    "import pandas as pd\n",
    "import numpy as np\n",
    "import lightgbm as lgb\n",
    "import matplotlib.pyplot as plt\n",
    "\n",
    "from sklearn.model_selection import train_test_split\n",
    "from sklearn.linear_model import LinearRegression\n",
    "from sklearn.metrics import mean_absolute_error\n",
    "from sklearn.metrics import mean_squared_error\n",
    "from sklearn.ensemble import RandomForestRegressor\n",
    "from statsmodels.tsa.seasonal import seasonal_decompose"
   ]
  },
  {
   "cell_type": "code",
   "execution_count": 2,
   "metadata": {},
   "outputs": [],
   "source": [
    "df = pd.read_csv('/datasets/taxi.csv', parse_dates=[0], index_col=[0])"
   ]
  },
  {
   "cell_type": "code",
   "execution_count": 3,
   "metadata": {
    "scrolled": true
   },
   "outputs": [
    {
     "data": {
      "text/html": [
       "<div>\n",
       "<style scoped>\n",
       "    .dataframe tbody tr th:only-of-type {\n",
       "        vertical-align: middle;\n",
       "    }\n",
       "\n",
       "    .dataframe tbody tr th {\n",
       "        vertical-align: top;\n",
       "    }\n",
       "\n",
       "    .dataframe thead th {\n",
       "        text-align: right;\n",
       "    }\n",
       "</style>\n",
       "<table border=\"1\" class=\"dataframe\">\n",
       "  <thead>\n",
       "    <tr style=\"text-align: right;\">\n",
       "      <th></th>\n",
       "      <th>num_orders</th>\n",
       "    </tr>\n",
       "    <tr>\n",
       "      <th>datetime</th>\n",
       "      <th></th>\n",
       "    </tr>\n",
       "  </thead>\n",
       "  <tbody>\n",
       "    <tr>\n",
       "      <th>2018-03-01 00:00:00</th>\n",
       "      <td>9</td>\n",
       "    </tr>\n",
       "    <tr>\n",
       "      <th>2018-03-01 00:10:00</th>\n",
       "      <td>14</td>\n",
       "    </tr>\n",
       "    <tr>\n",
       "      <th>2018-03-01 00:20:00</th>\n",
       "      <td>28</td>\n",
       "    </tr>\n",
       "    <tr>\n",
       "      <th>2018-03-01 00:30:00</th>\n",
       "      <td>20</td>\n",
       "    </tr>\n",
       "    <tr>\n",
       "      <th>2018-03-01 00:40:00</th>\n",
       "      <td>32</td>\n",
       "    </tr>\n",
       "    <tr>\n",
       "      <th>2018-03-01 00:50:00</th>\n",
       "      <td>21</td>\n",
       "    </tr>\n",
       "    <tr>\n",
       "      <th>2018-03-01 01:00:00</th>\n",
       "      <td>7</td>\n",
       "    </tr>\n",
       "    <tr>\n",
       "      <th>2018-03-01 01:10:00</th>\n",
       "      <td>5</td>\n",
       "    </tr>\n",
       "    <tr>\n",
       "      <th>2018-03-01 01:20:00</th>\n",
       "      <td>17</td>\n",
       "    </tr>\n",
       "    <tr>\n",
       "      <th>2018-03-01 01:30:00</th>\n",
       "      <td>12</td>\n",
       "    </tr>\n",
       "  </tbody>\n",
       "</table>\n",
       "</div>"
      ],
      "text/plain": [
       "                     num_orders\n",
       "datetime                       \n",
       "2018-03-01 00:00:00           9\n",
       "2018-03-01 00:10:00          14\n",
       "2018-03-01 00:20:00          28\n",
       "2018-03-01 00:30:00          20\n",
       "2018-03-01 00:40:00          32\n",
       "2018-03-01 00:50:00          21\n",
       "2018-03-01 01:00:00           7\n",
       "2018-03-01 01:10:00           5\n",
       "2018-03-01 01:20:00          17\n",
       "2018-03-01 01:30:00          12"
      ]
     },
     "metadata": {},
     "output_type": "display_data"
    }
   ],
   "source": [
    "display(df.head(10))"
   ]
  },
  {
   "cell_type": "code",
   "execution_count": 4,
   "metadata": {},
   "outputs": [
    {
     "name": "stdout",
     "output_type": "stream",
     "text": [
      "<class 'pandas.core.frame.DataFrame'>\n",
      "DatetimeIndex: 26496 entries, 2018-03-01 00:00:00 to 2018-08-31 23:50:00\n",
      "Data columns (total 1 columns):\n",
      " #   Column      Non-Null Count  Dtype\n",
      "---  ------      --------------  -----\n",
      " 0   num_orders  26496 non-null  int64\n",
      "dtypes: int64(1)\n",
      "memory usage: 414.0 KB\n"
     ]
    }
   ],
   "source": [
    "df.info()"
   ]
  },
  {
   "cell_type": "markdown",
   "metadata": {},
   "source": [
    "### Проверяю данные на наличие пропусков"
   ]
  },
  {
   "cell_type": "code",
   "execution_count": 5,
   "metadata": {},
   "outputs": [
    {
     "data": {
      "text/plain": [
       "num_orders    0\n",
       "dtype: int64"
      ]
     },
     "execution_count": 5,
     "metadata": {},
     "output_type": "execute_result"
    }
   ],
   "source": [
    "df.isna().sum()"
   ]
  },
  {
   "cell_type": "markdown",
   "metadata": {},
   "source": [
    "В столбце rolling_mean обнаружены пропуски. Пропусков всего шесть, их удаление не скажется на качестве данных, поэтому просто удаляю пропуски"
   ]
  },
  {
   "cell_type": "code",
   "execution_count": 6,
   "metadata": {},
   "outputs": [
    {
     "data": {
      "text/plain": [
       "num_orders    0\n",
       "dtype: int64"
      ]
     },
     "execution_count": 6,
     "metadata": {},
     "output_type": "execute_result"
    }
   ],
   "source": [
    "df = df.dropna()\n",
    "df.isna().sum()"
   ]
  },
  {
   "cell_type": "markdown",
   "metadata": {},
   "source": [
    "Выполняю ресемплирование по 1 часу"
   ]
  },
  {
   "cell_type": "code",
   "execution_count": 7,
   "metadata": {
    "scrolled": true
   },
   "outputs": [
    {
     "data": {
      "image/png": "[encoded data removed]",
      "text/plain": [
       "<Figure size 432x288 with 1 Axes>"
      ]
     },
     "metadata": {
      "needs_background": "light"
     },
     "output_type": "display_data"
    }
   ],
   "source": [
    "df = df.resample('1H').sum()\n",
    "df.plot()\n",
    "plt.ylabel('Количество заказов', fontsize=15, color='blue')\n",
    "plt.xlabel('Дата заказа', fontsize=15, color='red')\n",
    "plt.title('Количество заказов в зависимости от даты', fontsize=17);"
   ]
  },
  {
   "cell_type": "markdown",
   "metadata": {},
   "source": [
    "## Анализ"
   ]
  },
  {
   "cell_type": "markdown",
   "metadata": {},
   "source": [
    "### Строю график скользящего среднего с окном, равным 7, и график о заказах такси в аэропортах (с ресемплированием в 1 день)."
   ]
  },
  {
   "cell_type": "code",
   "execution_count": 8,
   "metadata": {},
   "outputs": [
    {
     "data": {
      "image/png": "[encoded data removed]",
      "text/plain": [
       "<Figure size 432x288 with 1 Axes>"
      ]
     },
     "metadata": {
      "needs_background": "light"
     },
     "output_type": "display_data"
    }
   ],
   "source": [
    "df.sort_index(inplace=True)\n",
    "df_3 = df.resample('1D').sum()\n",
    "df_rolling = df_3.resample('1D').sum()\n",
    "df_rolling['rolling_mean'] = df_3.rolling(7).mean()\n",
    "df_rolling.plot()\n",
    "plt.ylabel('Количество заказов', fontsize=15, color='blue')\n",
    "plt.xlabel('Дата заказов', fontsize=15, color='red')\n",
    "plt.title('График скользящего среднего', fontsize=17);"
   ]
  },
  {
   "cell_type": "markdown",
   "metadata": {},
   "source": [
    "Количество заказов с марта по август увеличивается"
   ]
  },
  {
   "cell_type": "markdown",
   "metadata": {},
   "source": [
    "### Строю график сезонности"
   ]
  },
  {
   "cell_type": "code",
   "execution_count": 9,
   "metadata": {
    "scrolled": true
   },
   "outputs": [
    {
     "data": {
      "image/png": "[encoded data removed]",
      "text/plain": [
       "<Figure size 432x576 with 3 Axes>"
      ]
     },
     "metadata": {
      "needs_background": "light"
     },
     "output_type": "display_data"
    }
   ],
   "source": [
    "df.sort_index(inplace=True)\n",
    "df_hour = df.resample('1H').sum()\n",
    "\n",
    "decomposed = seasonal_decompose(df_hour)\n",
    "\n",
    "plt.figure(figsize=(6, 8))\n",
    "plt.subplot(311)\n",
    "\n",
    "decomposed.trend.plot(ax=plt.gca())\n",
    "plt.title('Тренд')\n",
    "plt.subplot(312)\n",
    "\n",
    "decomposed.seasonal.plot(ax=plt.gca()) \n",
    "plt.title('Сезонность')\n",
    "plt.subplot(313)\n",
    "decomposed.resid.plot(ax=plt.gca()) \n",
    "plt.title('Остаток декомпозиции')\n",
    "plt.tight_layout()"
   ]
  },
  {
   "cell_type": "markdown",
   "metadata": {},
   "source": [
    "Попробовала построить график сезонности, ресемплировав по 1 часу. График получился не очень наглядный, поэтому ниже пробую ресемплировать по 1 дню."
   ]
  },
  {
   "cell_type": "code",
   "execution_count": 10,
   "metadata": {},
   "outputs": [
    {
     "data": {
      "image/png": "[encoded data removed]",
      "text/plain": [
       "<Figure size 432x576 with 3 Axes>"
      ]
     },
     "metadata": {
      "needs_background": "light"
     },
     "output_type": "display_data"
    }
   ],
   "source": [
    "df.sort_index(inplace=True)\n",
    "df_day = df.resample('1D').sum()\n",
    "\n",
    "decomposed = seasonal_decompose(df_day)\n",
    "\n",
    "plt.figure(figsize=(6, 8))\n",
    "plt.subplot(311)\n",
    "\n",
    "decomposed.trend.plot(ax=plt.gca())\n",
    "plt.title('Тренд')\n",
    "plt.subplot(312)\n",
    "\n",
    "decomposed.seasonal.plot(ax=plt.gca()) \n",
    "plt.title('Сезонность')\n",
    "plt.subplot(313)\n",
    "decomposed.resid.plot(ax=plt.gca()) \n",
    "plt.title('Остаток декомпозиции')\n",
    "plt.tight_layout()"
   ]
  },
  {
   "cell_type": "markdown",
   "metadata": {},
   "source": [
    "Опять не очень наглядно получилось. Пробую построить график сезонности за 1 месяц. За март 2018 года."
   ]
  },
  {
   "cell_type": "code",
   "execution_count": 11,
   "metadata": {},
   "outputs": [
    {
     "data": {
      "image/png": "[encoded data removed]",
      "text/plain": [
       "<Figure size 432x576 with 3 Axes>"
      ]
     },
     "metadata": {
      "needs_background": "light"
     },
     "output_type": "display_data"
    }
   ],
   "source": [
    "df.sort_index(inplace=True)\n",
    "df_march = df['2018-03-01':'2018-03-30'].resample('1D').sum()\n",
    "\n",
    "decomposed = seasonal_decompose(df_march)\n",
    "\n",
    "plt.figure(figsize=(6, 8))\n",
    "plt.subplot(311)\n",
    "\n",
    "decomposed.trend.plot(ax=plt.gca())\n",
    "plt.title('Тренд')\n",
    "plt.subplot(312)\n",
    "\n",
    "decomposed.seasonal.plot(ax=plt.gca()) \n",
    "plt.title('Сезонность')\n",
    "plt.subplot(313)\n",
    "decomposed.resid.plot(ax=plt.gca()) \n",
    "plt.title('Остаток декомпозиции')\n",
    "plt.tight_layout()"
   ]
  },
  {
   "cell_type": "markdown",
   "metadata": {},
   "source": [
    "Из графиков видно, что пик заказов случается 10, 13-14 марта и 25 марта.\\\n",
    "Также из графиков видно, что максимальное количество заказов приходится на четверг каждой недели."
   ]
  },
  {
   "cell_type": "markdown",
   "metadata": {},
   "source": [
    "## Обучение"
   ]
  },
  {
   "cell_type": "markdown",
   "metadata": {},
   "source": [
    "Пишу функцию, чтобы прибавить к таблице календарные признаки, максимальный размер отставания и скользящее среднее"
   ]
  },
  {
   "cell_type": "code",
   "execution_count": 12,
   "metadata": {},
   "outputs": [],
   "source": [
    "def make_features(df, max_lag, rolling_mean_size):\n",
    "    df['hour'] = df.index.hour\n",
    "    df['dayofweek'] = df.index.dayofweek\n",
    "    \n",
    "    for lag in range(1, max_lag + 1):\n",
    "        df['lag_{}'.format(lag)] = df['num_orders'].shift(lag)\n",
    "\n",
    "    df['rolling_mean'] = df['num_orders'].shift().rolling(rolling_mean_size).mean()"
   ]
  },
  {
   "cell_type": "markdown",
   "metadata": {},
   "source": [
    "Подбираю аргументы функции make_features, чтобы достичь оптимального значения RMSE"
   ]
  },
  {
   "cell_type": "code",
   "execution_count": 13,
   "metadata": {},
   "outputs": [],
   "source": [
    "make_features(df, 168, 168)"
   ]
  },
  {
   "cell_type": "code",
   "execution_count": 14,
   "metadata": {},
   "outputs": [
    {
     "data": {
      "text/html": [
       "<div>\n",
       "<style scoped>\n",
       "    .dataframe tbody tr th:only-of-type {\n",
       "        vertical-align: middle;\n",
       "    }\n",
       "\n",
       "    .dataframe tbody tr th {\n",
       "        vertical-align: top;\n",
       "    }\n",
       "\n",
       "    .dataframe thead th {\n",
       "        text-align: right;\n",
       "    }\n",
       "</style>\n",
       "<table border=\"1\" class=\"dataframe\">\n",
       "  <thead>\n",
       "    <tr style=\"text-align: right;\">\n",
       "      <th></th>\n",
       "      <th>num_orders</th>\n",
       "      <th>hour</th>\n",
       "      <th>dayofweek</th>\n",
       "      <th>lag_1</th>\n",
       "      <th>lag_2</th>\n",
       "      <th>lag_3</th>\n",
       "      <th>lag_4</th>\n",
       "      <th>lag_5</th>\n",
       "      <th>lag_6</th>\n",
       "      <th>lag_7</th>\n",
       "      <th>...</th>\n",
       "      <th>lag_160</th>\n",
       "      <th>lag_161</th>\n",
       "      <th>lag_162</th>\n",
       "      <th>lag_163</th>\n",
       "      <th>lag_164</th>\n",
       "      <th>lag_165</th>\n",
       "      <th>lag_166</th>\n",
       "      <th>lag_167</th>\n",
       "      <th>lag_168</th>\n",
       "      <th>rolling_mean</th>\n",
       "    </tr>\n",
       "    <tr>\n",
       "      <th>datetime</th>\n",
       "      <th></th>\n",
       "      <th></th>\n",
       "      <th></th>\n",
       "      <th></th>\n",
       "      <th></th>\n",
       "      <th></th>\n",
       "      <th></th>\n",
       "      <th></th>\n",
       "      <th></th>\n",
       "      <th></th>\n",
       "      <th></th>\n",
       "      <th></th>\n",
       "      <th></th>\n",
       "      <th></th>\n",
       "      <th></th>\n",
       "      <th></th>\n",
       "      <th></th>\n",
       "      <th></th>\n",
       "      <th></th>\n",
       "      <th></th>\n",
       "      <th></th>\n",
       "    </tr>\n",
       "  </thead>\n",
       "  <tbody>\n",
       "    <tr>\n",
       "      <th>2018-03-01 00:00:00</th>\n",
       "      <td>124</td>\n",
       "      <td>0</td>\n",
       "      <td>3</td>\n",
       "      <td>NaN</td>\n",
       "      <td>NaN</td>\n",
       "      <td>NaN</td>\n",
       "      <td>NaN</td>\n",
       "      <td>NaN</td>\n",
       "      <td>NaN</td>\n",
       "      <td>NaN</td>\n",
       "      <td>...</td>\n",
       "      <td>NaN</td>\n",
       "      <td>NaN</td>\n",
       "      <td>NaN</td>\n",
       "      <td>NaN</td>\n",
       "      <td>NaN</td>\n",
       "      <td>NaN</td>\n",
       "      <td>NaN</td>\n",
       "      <td>NaN</td>\n",
       "      <td>NaN</td>\n",
       "      <td>NaN</td>\n",
       "    </tr>\n",
       "    <tr>\n",
       "      <th>2018-03-01 01:00:00</th>\n",
       "      <td>85</td>\n",
       "      <td>1</td>\n",
       "      <td>3</td>\n",
       "      <td>124.0</td>\n",
       "      <td>NaN</td>\n",
       "      <td>NaN</td>\n",
       "      <td>NaN</td>\n",
       "      <td>NaN</td>\n",
       "      <td>NaN</td>\n",
       "      <td>NaN</td>\n",
       "      <td>...</td>\n",
       "      <td>NaN</td>\n",
       "      <td>NaN</td>\n",
       "      <td>NaN</td>\n",
       "      <td>NaN</td>\n",
       "      <td>NaN</td>\n",
       "      <td>NaN</td>\n",
       "      <td>NaN</td>\n",
       "      <td>NaN</td>\n",
       "      <td>NaN</td>\n",
       "      <td>NaN</td>\n",
       "    </tr>\n",
       "    <tr>\n",
       "      <th>2018-03-01 02:00:00</th>\n",
       "      <td>71</td>\n",
       "      <td>2</td>\n",
       "      <td>3</td>\n",
       "      <td>85.0</td>\n",
       "      <td>124.0</td>\n",
       "      <td>NaN</td>\n",
       "      <td>NaN</td>\n",
       "      <td>NaN</td>\n",
       "      <td>NaN</td>\n",
       "      <td>NaN</td>\n",
       "      <td>...</td>\n",
       "      <td>NaN</td>\n",
       "      <td>NaN</td>\n",
       "      <td>NaN</td>\n",
       "      <td>NaN</td>\n",
       "      <td>NaN</td>\n",
       "      <td>NaN</td>\n",
       "      <td>NaN</td>\n",
       "      <td>NaN</td>\n",
       "      <td>NaN</td>\n",
       "      <td>NaN</td>\n",
       "    </tr>\n",
       "    <tr>\n",
       "      <th>2018-03-01 03:00:00</th>\n",
       "      <td>66</td>\n",
       "      <td>3</td>\n",
       "      <td>3</td>\n",
       "      <td>71.0</td>\n",
       "      <td>85.0</td>\n",
       "      <td>124.0</td>\n",
       "      <td>NaN</td>\n",
       "      <td>NaN</td>\n",
       "      <td>NaN</td>\n",
       "      <td>NaN</td>\n",
       "      <td>...</td>\n",
       "      <td>NaN</td>\n",
       "      <td>NaN</td>\n",
       "      <td>NaN</td>\n",
       "      <td>NaN</td>\n",
       "      <td>NaN</td>\n",
       "      <td>NaN</td>\n",
       "      <td>NaN</td>\n",
       "      <td>NaN</td>\n",
       "      <td>NaN</td>\n",
       "      <td>NaN</td>\n",
       "    </tr>\n",
       "    <tr>\n",
       "      <th>2018-03-01 04:00:00</th>\n",
       "      <td>43</td>\n",
       "      <td>4</td>\n",
       "      <td>3</td>\n",
       "      <td>66.0</td>\n",
       "      <td>71.0</td>\n",
       "      <td>85.0</td>\n",
       "      <td>124.0</td>\n",
       "      <td>NaN</td>\n",
       "      <td>NaN</td>\n",
       "      <td>NaN</td>\n",
       "      <td>...</td>\n",
       "      <td>NaN</td>\n",
       "      <td>NaN</td>\n",
       "      <td>NaN</td>\n",
       "      <td>NaN</td>\n",
       "      <td>NaN</td>\n",
       "      <td>NaN</td>\n",
       "      <td>NaN</td>\n",
       "      <td>NaN</td>\n",
       "      <td>NaN</td>\n",
       "      <td>NaN</td>\n",
       "    </tr>\n",
       "  </tbody>\n",
       "</table>\n",
       "<p>5 rows × 172 columns</p>\n",
       "</div>"
      ],
      "text/plain": [
       "                     num_orders  hour  dayofweek  lag_1  lag_2  lag_3  lag_4  \\\n",
       "datetime                                                                       \n",
       "2018-03-01 00:00:00         124     0          3    NaN    NaN    NaN    NaN   \n",
       "2018-03-01 01:00:00          85     1          3  124.0    NaN    NaN    NaN   \n",
       "2018-03-01 02:00:00          71     2          3   85.0  124.0    NaN    NaN   \n",
       "2018-03-01 03:00:00          66     3          3   71.0   85.0  124.0    NaN   \n",
       "2018-03-01 04:00:00          43     4          3   66.0   71.0   85.0  124.0   \n",
       "\n",
       "                     lag_5  lag_6  lag_7  ...  lag_160  lag_161  lag_162  \\\n",
       "datetime                                  ...                              \n",
       "2018-03-01 00:00:00    NaN    NaN    NaN  ...      NaN      NaN      NaN   \n",
       "2018-03-01 01:00:00    NaN    NaN    NaN  ...      NaN      NaN      NaN   \n",
       "2018-03-01 02:00:00    NaN    NaN    NaN  ...      NaN      NaN      NaN   \n",
       "2018-03-01 03:00:00    NaN    NaN    NaN  ...      NaN      NaN      NaN   \n",
       "2018-03-01 04:00:00    NaN    NaN    NaN  ...      NaN      NaN      NaN   \n",
       "\n",
       "                     lag_163  lag_164  lag_165  lag_166  lag_167  lag_168  \\\n",
       "datetime                                                                    \n",
       "2018-03-01 00:00:00      NaN      NaN      NaN      NaN      NaN      NaN   \n",
       "2018-03-01 01:00:00      NaN      NaN      NaN      NaN      NaN      NaN   \n",
       "2018-03-01 02:00:00      NaN      NaN      NaN      NaN      NaN      NaN   \n",
       "2018-03-01 03:00:00      NaN      NaN      NaN      NaN      NaN      NaN   \n",
       "2018-03-01 04:00:00      NaN      NaN      NaN      NaN      NaN      NaN   \n",
       "\n",
       "                     rolling_mean  \n",
       "datetime                           \n",
       "2018-03-01 00:00:00           NaN  \n",
       "2018-03-01 01:00:00           NaN  \n",
       "2018-03-01 02:00:00           NaN  \n",
       "2018-03-01 03:00:00           NaN  \n",
       "2018-03-01 04:00:00           NaN  \n",
       "\n",
       "[5 rows x 172 columns]"
      ]
     },
     "execution_count": 14,
     "metadata": {},
     "output_type": "execute_result"
    }
   ],
   "source": [
    "df.head(5)"
   ]
  },
  {
   "cell_type": "markdown",
   "metadata": {},
   "source": [
    "Разбиваю данные на тренировочные, валидационные и тестовые"
   ]
  },
  {
   "cell_type": "code",
   "execution_count": 15,
   "metadata": {},
   "outputs": [],
   "source": [
    "train, valid = train_test_split(df, shuffle=False, test_size=0.2)\n",
    "valid, test = train_test_split(valid, shuffle=False, test_size=0.5)\n",
    "train = train.dropna()\n",
    "\n",
    "target_train = train['num_orders']\n",
    "features_train = train.drop(['num_orders'], axis=1)\n",
    "\n",
    "target_valid = valid['num_orders']\n",
    "features_valid = valid.drop(['num_orders'], axis=1)\n",
    "\n",
    "target_test = test['num_orders']\n",
    "features_test = test.drop(['num_orders'], axis=1)"
   ]
  },
  {
   "cell_type": "code",
   "execution_count": 16,
   "metadata": {},
   "outputs": [
    {
     "data": {
      "text/plain": [
       "(3364, 171)"
      ]
     },
     "execution_count": 16,
     "metadata": {},
     "output_type": "execute_result"
    }
   ],
   "source": [
    "features_train.shape"
   ]
  },
  {
   "cell_type": "code",
   "execution_count": 17,
   "metadata": {},
   "outputs": [
    {
     "data": {
      "text/plain": [
       "(3364,)"
      ]
     },
     "execution_count": 17,
     "metadata": {},
     "output_type": "execute_result"
    }
   ],
   "source": [
    "target_train.shape"
   ]
  },
  {
   "cell_type": "markdown",
   "metadata": {},
   "source": [
    "### Запускаю модель линейной регрессии"
   ]
  },
  {
   "cell_type": "code",
   "execution_count": 18,
   "metadata": {},
   "outputs": [
    {
     "name": "stdout",
     "output_type": "stream",
     "text": [
      "RMSE модели линейной регрессии на валидационной выборке: 28.080614552064187\n"
     ]
    }
   ],
   "source": [
    "model = LinearRegression()\n",
    "model.fit(features_train, target_train)\n",
    "predictions_valid = model.predict(features_valid)\n",
    "\n",
    "result = mean_squared_error(target_valid, predictions_valid)**0.5\n",
    "print(\"RMSE модели линейной регрессии на валидационной выборке:\", result)"
   ]
  },
  {
   "cell_type": "markdown",
   "metadata": {},
   "source": [
    "### Исследую модель случайного леса"
   ]
  },
  {
   "cell_type": "code",
   "execution_count": 19,
   "metadata": {
    "scrolled": true
   },
   "outputs": [
    {
     "name": "stdout",
     "output_type": "stream",
     "text": [
      "RMSE наилучшей модели на валидационной выборке: 31.433357885516443\n",
      "Какие гиперпараметры дали наилучший результат: RandomForestRegressor(max_depth=6, n_estimators=6, random_state=12345)\n",
      "CPU times: user 10.2 s, sys: 72.6 ms, total: 10.3 s\n",
      "Wall time: 10.6 s\n"
     ]
    }
   ],
   "source": [
    "%%time\n",
    "\n",
    "best_model = None\n",
    "best_result = 50\n",
    "for est in range(1, 7):\n",
    "    for depth in range(1, 7):\n",
    "        model = RandomForestRegressor(random_state=12345, n_estimators=est, max_depth=depth)\n",
    "        model.fit(features_train, target_train)\n",
    "        predictions_valid = model.predict(features_valid)\n",
    "        result = mean_squared_error(target_valid, predictions_valid)**0.5\n",
    "        if result < best_result:\n",
    "            best_model = model\n",
    "            best_result = result\n",
    "\n",
    "print(\"RMSE наилучшей модели на валидационной выборке:\", best_result)\n",
    "print (\"Какие гиперпараметры дали наилучший результат:\", best_model)"
   ]
  },
  {
   "cell_type": "markdown",
   "metadata": {},
   "source": [
    "### Исследую модель LightGBM"
   ]
  },
  {
   "cell_type": "code",
   "execution_count": 20,
   "metadata": {
    "scrolled": true
   },
   "outputs": [
    {
     "name": "stdout",
     "output_type": "stream",
     "text": [
      "[LightGBM] [Warning] Auto-choosing col-wise multi-threading, the overhead of testing was 0.216707 seconds.\n",
      "You can set `force_col_wise=true` to remove the overhead.\n",
      "[LightGBM] [Info] Total Bins 29597\n",
      "[LightGBM] [Info] Number of data points in the train set: 3364, number of used features: 171\n",
      "[LightGBM] [Warning] No further splits with positive gain, best gain: -inf\n",
      "[LightGBM] [Warning] Stopped training because there are no more leaves that meet the split requirements\n",
      "[1]\tvalid_0's l2: 0\n",
      "[LightGBM] [Warning] No further splits with positive gain, best gain: -inf\n",
      "[LightGBM] [Warning] Stopped training because there are no more leaves that meet the split requirements\n",
      "[2]\tvalid_0's l2: 0\n",
      "[LightGBM] [Warning] No further splits with positive gain, best gain: -inf\n",
      "[LightGBM] [Warning] Stopped training because there are no more leaves that meet the split requirements\n",
      "[3]\tvalid_0's l2: 0\n",
      "[LightGBM] [Warning] No further splits with positive gain, best gain: -inf\n",
      "[LightGBM] [Warning] Stopped training because there are no more leaves that meet the split requirements\n",
      "[4]\tvalid_0's l2: 0\n",
      "[LightGBM] [Warning] No further splits with positive gain, best gain: -inf\n",
      "[LightGBM] [Warning] Stopped training because there are no more leaves that meet the split requirements\n",
      "[5]\tvalid_0's l2: 0\n",
      "[LightGBM] [Warning] No further splits with positive gain, best gain: -inf\n",
      "[LightGBM] [Warning] Stopped training because there are no more leaves that meet the split requirements\n",
      "[6]\tvalid_0's l2: 0\n",
      "[LightGBM] [Warning] No further splits with positive gain, best gain: -inf\n",
      "[LightGBM] [Warning] Stopped training because there are no more leaves that meet the split requirements\n",
      "[7]\tvalid_0's l2: 0\n",
      "[LightGBM] [Warning] No further splits with positive gain, best gain: -inf\n",
      "[LightGBM] [Warning] Stopped training because there are no more leaves that meet the split requirements\n",
      "[8]\tvalid_0's l2: 0\n",
      "[LightGBM] [Warning] No further splits with positive gain, best gain: -inf\n",
      "[LightGBM] [Warning] Stopped training because there are no more leaves that meet the split requirements\n",
      "[9]\tvalid_0's l2: 0\n",
      "[LightGBM] [Warning] No further splits with positive gain, best gain: -inf\n",
      "[LightGBM] [Warning] Stopped training because there are no more leaves that meet the split requirements\n",
      "[10]\tvalid_0's l2: 0\n",
      "CPU times: user 2.53 s, sys: 64.8 ms, total: 2.6 s\n",
      "Wall time: 2.61 s\n"
     ]
    }
   ],
   "source": [
    "%%time\n",
    "\n",
    "\n",
    "features_train_lgb = lgb.Dataset(features_train, label=None \n",
    "                                )\n",
    "features_valid_lgb = lgb.Dataset(features_valid, label=None\n",
    "                                )\n",
    "target_valid_lgb = lgb.Dataset(target_valid)\n",
    "\n",
    "params = {'objective': 'regression'}\n",
    "\n",
    "model_lgb = lgb.train(params,\n",
    "                 train_set=features_train_lgb,\n",
    "                 valid_sets=features_valid_lgb,\n",
    "                 num_boost_round=10)"
   ]
  },
  {
   "cell_type": "code",
   "execution_count": 21,
   "metadata": {},
   "outputs": [
    {
     "name": "stdout",
     "output_type": "stream",
     "text": [
      "RMSE модели на валидационной выборке: 119.31087004295644\n"
     ]
    }
   ],
   "source": [
    "predictions_valid = model_lgb.predict(features_valid, pred_leaf=True)\n",
    "result = mean_squared_error(target_valid, predictions_valid)**0.5\n",
    "print(\"RMSE модели на валидационной выборке:\", result)"
   ]
  },
  {
   "cell_type": "markdown",
   "metadata": {},
   "source": [
    "Наименьшее значение RMSE показала модель линейной регрессии. Тестирую ее."
   ]
  },
  {
   "cell_type": "markdown",
   "metadata": {},
   "source": [
    "## Тестирование"
   ]
  },
  {
   "cell_type": "markdown",
   "metadata": {},
   "source": [
    "Объединяю тренировочные и валидационные данные"
   ]
  },
  {
   "cell_type": "code",
   "execution_count": 22,
   "metadata": {},
   "outputs": [
    {
     "name": "stdout",
     "output_type": "stream",
     "text": [
      "(3806, 171)\n",
      "(3806,)\n"
     ]
    }
   ],
   "source": [
    "features_train_valid = pd.concat([features_train, features_valid])\n",
    "target_train_valid = pd.concat([target_train, target_valid])\n",
    "print (features_train_valid.shape)\n",
    "print (target_train_valid.shape)"
   ]
  },
  {
   "cell_type": "code",
   "execution_count": 23,
   "metadata": {},
   "outputs": [
    {
     "name": "stdout",
     "output_type": "stream",
     "text": [
      "RMSE модели линейной регрессии на тестовой выборке: 34.94576697919462\n"
     ]
    }
   ],
   "source": [
    "model = LinearRegression()\n",
    "model.fit(features_train_valid, target_train_valid)\n",
    "predictions_test = model.predict(features_test)\n",
    "\n",
    "result = mean_squared_error(target_test, predictions_test)**0.5\n",
    "print(\"RMSE модели линейной регрессии на тестовой выборке:\", result)"
   ]
  },
  {
   "cell_type": "markdown",
   "metadata": {},
   "source": [
    "## Вывод"
   ]
  },
  {
   "cell_type": "markdown",
   "metadata": {},
   "source": [
    "Задачей данного проекта было прогнозирование количества заказов такси на следующий час на основе исторических данных для заказа такси в аэропортах для привлечения большего количества водителей в периоды пиковой нагрузки. \n",
    "\n",
    "Для выполнения проекта я сделала:\n",
    "* Загрузила данные и выполнила их ресемплирование по одному часу.\n",
    "* Проанализировала данные.\n",
    "* Обучить модели: линейной регрессии, случайного леса, LightGBM.\n",
    "Наилучший результат на валидационной выборке показала модель линейной регрессии.\n",
    "\n",
    "Проверила данную модель на тестовой выборке."
   ]
  }
 ],
 "metadata": {
  "ExecuteTimeLog": [
   {
    "duration": 1182,
    "start_time": "2023-07-19T04:46:35.676Z"
   },
   {
    "duration": 170,
    "start_time": "2023-07-19T04:46:55.072Z"
   },
   {
    "duration": 136,
    "start_time": "2023-07-19T04:48:02.409Z"
   },
   {
    "duration": 18,
    "start_time": "2023-07-19T04:48:04.570Z"
   },
   {
    "duration": 57,
    "start_time": "2023-07-19T04:49:40.207Z"
   },
   {
    "duration": 47,
    "start_time": "2023-07-19T04:51:23.616Z"
   },
   {
    "duration": 10,
    "start_time": "2023-07-19T04:51:26.062Z"
   },
   {
    "duration": 19,
    "start_time": "2023-07-19T04:52:52.127Z"
   },
   {
    "duration": 11,
    "start_time": "2023-07-19T04:53:00.126Z"
   },
   {
    "duration": 729,
    "start_time": "2023-07-19T04:53:48.710Z"
   },
   {
    "duration": 239,
    "start_time": "2023-07-19T04:53:59.630Z"
   },
   {
    "duration": 310,
    "start_time": "2023-07-19T05:39:57.935Z"
   },
   {
    "duration": 52,
    "start_time": "2023-07-21T08:23:31.467Z"
   },
   {
    "duration": 1300,
    "start_time": "2023-07-21T08:23:34.896Z"
   },
   {
    "duration": 125,
    "start_time": "2023-07-21T08:23:36.199Z"
   },
   {
    "duration": 18,
    "start_time": "2023-07-21T08:23:36.326Z"
   },
   {
    "duration": 735,
    "start_time": "2023-07-21T08:23:36.346Z"
   },
   {
    "duration": 309,
    "start_time": "2023-07-21T08:37:39.749Z"
   },
   {
    "duration": 260,
    "start_time": "2023-07-21T08:37:54.830Z"
   },
   {
    "duration": 1502,
    "start_time": "2023-07-21T12:28:43.270Z"
   },
   {
    "duration": 1453,
    "start_time": "2023-07-21T12:29:31.421Z"
   },
   {
    "duration": 2416,
    "start_time": "2023-07-21T12:29:43.308Z"
   },
   {
    "duration": 1353,
    "start_time": "2023-07-21T12:33:19.380Z"
   },
   {
    "duration": 366,
    "start_time": "2023-07-21T14:17:05.305Z"
   },
   {
    "duration": 243,
    "start_time": "2023-07-21T14:17:12.592Z"
   },
   {
    "duration": 22,
    "start_time": "2023-07-21T15:38:57.728Z"
   },
   {
    "duration": 30,
    "start_time": "2023-07-21T15:39:24.253Z"
   },
   {
    "duration": 29,
    "start_time": "2023-07-21T15:48:46.774Z"
   },
   {
    "duration": 3,
    "start_time": "2023-07-21T15:49:15.524Z"
   },
   {
    "duration": 33,
    "start_time": "2023-07-21T15:49:19.908Z"
   },
   {
    "duration": 27,
    "start_time": "2023-07-21T15:49:58.524Z"
   },
   {
    "duration": 5,
    "start_time": "2023-07-21T15:55:45.108Z"
   },
   {
    "duration": 12,
    "start_time": "2023-07-21T15:55:46.970Z"
   },
   {
    "duration": 16,
    "start_time": "2023-07-21T15:55:57.715Z"
   },
   {
    "duration": 13,
    "start_time": "2023-07-21T15:55:59.730Z"
   },
   {
    "duration": 20,
    "start_time": "2023-07-21T15:56:16.139Z"
   },
   {
    "duration": 13,
    "start_time": "2023-07-21T15:56:20.434Z"
   },
   {
    "duration": 14,
    "start_time": "2023-07-21T15:56:29.747Z"
   },
   {
    "duration": 109,
    "start_time": "2023-07-21T16:29:04.639Z"
   },
   {
    "duration": 33,
    "start_time": "2023-07-21T16:29:36.318Z"
   },
   {
    "duration": 106,
    "start_time": "2023-07-21T16:29:42.253Z"
   },
   {
    "duration": 367,
    "start_time": "2023-07-21T16:30:03.548Z"
   },
   {
    "duration": 110,
    "start_time": "2023-07-21T16:33:20.596Z"
   },
   {
    "duration": 136,
    "start_time": "2023-07-21T16:33:46.715Z"
   },
   {
    "duration": 2131,
    "start_time": "2023-07-21T16:33:52.310Z"
   },
   {
    "duration": 17,
    "start_time": "2023-07-21T16:34:42.452Z"
   },
   {
    "duration": 12,
    "start_time": "2023-07-21T16:46:27.492Z"
   },
   {
    "duration": 1208,
    "start_time": "2023-07-23T02:30:07.578Z"
   },
   {
    "duration": 137,
    "start_time": "2023-07-23T02:30:11.078Z"
   },
   {
    "duration": 14,
    "start_time": "2023-07-23T02:30:13.974Z"
   },
   {
    "duration": 17,
    "start_time": "2023-07-23T02:31:41.833Z"
   },
   {
    "duration": 579,
    "start_time": "2023-07-23T02:31:52.974Z"
   },
   {
    "duration": 315,
    "start_time": "2023-07-23T02:38:49.758Z"
   },
   {
    "duration": 3,
    "start_time": "2023-07-23T02:39:17.716Z"
   },
   {
    "duration": 287,
    "start_time": "2023-07-23T02:39:22.076Z"
   },
   {
    "duration": 209,
    "start_time": "2023-07-23T02:40:22.589Z"
   },
   {
    "duration": 249,
    "start_time": "2023-07-23T02:49:02.867Z"
   },
   {
    "duration": 258,
    "start_time": "2023-07-23T02:49:12.274Z"
   },
   {
    "duration": 258,
    "start_time": "2023-07-23T02:49:31.053Z"
   },
   {
    "duration": 5,
    "start_time": "2023-07-23T02:50:14.741Z"
   },
   {
    "duration": 54,
    "start_time": "2023-07-23T02:50:17.394Z"
   },
   {
    "duration": 9,
    "start_time": "2023-07-23T02:50:19.419Z"
   },
   {
    "duration": 9,
    "start_time": "2023-07-23T02:50:22.394Z"
   },
   {
    "duration": 207,
    "start_time": "2023-07-23T02:50:25.418Z"
   },
   {
    "duration": 293,
    "start_time": "2023-07-23T02:50:32.873Z"
   },
   {
    "duration": 246,
    "start_time": "2023-07-23T02:50:54.803Z"
   },
   {
    "duration": 227,
    "start_time": "2023-07-23T03:05:31.184Z"
   },
   {
    "duration": 58,
    "start_time": "2023-07-23T03:15:04.752Z"
   },
   {
    "duration": 15,
    "start_time": "2023-07-23T03:17:57.654Z"
   },
   {
    "duration": 14,
    "start_time": "2023-07-23T03:20:25.549Z"
   },
   {
    "duration": 9,
    "start_time": "2023-07-23T03:27:47.765Z"
   },
   {
    "duration": 7,
    "start_time": "2023-07-23T03:27:53.397Z"
   },
   {
    "duration": 6,
    "start_time": "2023-07-23T03:37:33.867Z"
   },
   {
    "duration": 12,
    "start_time": "2023-07-23T03:42:29.601Z"
   },
   {
    "duration": 7,
    "start_time": "2023-07-23T03:42:42.076Z"
   },
   {
    "duration": 8,
    "start_time": "2023-07-23T03:42:50.154Z"
   },
   {
    "duration": 21,
    "start_time": "2023-07-23T03:48:15.290Z"
   },
   {
    "duration": 19,
    "start_time": "2023-07-23T03:48:50.586Z"
   },
   {
    "duration": 46,
    "start_time": "2023-07-23T03:49:29.595Z"
   },
   {
    "duration": 13,
    "start_time": "2023-07-23T03:52:33.037Z"
   },
   {
    "duration": 11,
    "start_time": "2023-07-23T03:55:22.064Z"
   },
   {
    "duration": 22,
    "start_time": "2023-07-23T03:55:31.441Z"
   },
   {
    "duration": 8,
    "start_time": "2023-07-23T03:55:46.252Z"
   },
   {
    "duration": 65,
    "start_time": "2023-07-23T03:55:46.262Z"
   },
   {
    "duration": 9,
    "start_time": "2023-07-23T03:55:46.328Z"
   },
   {
    "duration": 33,
    "start_time": "2023-07-23T03:55:46.342Z"
   },
   {
    "duration": 5,
    "start_time": "2023-07-23T03:55:46.378Z"
   },
   {
    "duration": 13,
    "start_time": "2023-07-23T03:55:46.385Z"
   },
   {
    "duration": 264,
    "start_time": "2023-07-23T03:55:46.400Z"
   },
   {
    "duration": 261,
    "start_time": "2023-07-23T03:55:46.667Z"
   },
   {
    "duration": 1589,
    "start_time": "2023-07-23T03:56:18.269Z"
   },
   {
    "duration": 46,
    "start_time": "2023-07-23T03:56:19.868Z"
   },
   {
    "duration": 18,
    "start_time": "2023-07-23T03:56:19.916Z"
   },
   {
    "duration": 43,
    "start_time": "2023-07-23T03:56:19.936Z"
   },
   {
    "duration": 15,
    "start_time": "2023-07-23T03:56:19.982Z"
   },
   {
    "duration": 61,
    "start_time": "2023-07-23T03:56:19.999Z"
   },
   {
    "duration": 327,
    "start_time": "2023-07-23T03:56:20.065Z"
   },
   {
    "duration": 291,
    "start_time": "2023-07-23T03:56:20.394Z"
   },
   {
    "duration": 187,
    "start_time": "2023-07-23T03:56:25.902Z"
   },
   {
    "duration": 25,
    "start_time": "2023-07-23T03:57:52.672Z"
   },
   {
    "duration": 22,
    "start_time": "2023-07-23T04:07:46.494Z"
   },
   {
    "duration": 34,
    "start_time": "2023-07-23T04:09:59.213Z"
   },
   {
    "duration": 5,
    "start_time": "2023-07-23T05:35:11.005Z"
   },
   {
    "duration": 4,
    "start_time": "2023-07-23T06:04:28.316Z"
   },
   {
    "duration": 6,
    "start_time": "2023-07-23T06:04:36.588Z"
   },
   {
    "duration": 8,
    "start_time": "2023-07-23T06:04:46.563Z"
   },
   {
    "duration": 11,
    "start_time": "2023-07-23T06:06:12.669Z"
   },
   {
    "duration": 125,
    "start_time": "2023-07-23T06:06:37.893Z"
   },
   {
    "duration": 17,
    "start_time": "2023-07-23T06:12:34.658Z"
   },
   {
    "duration": 13,
    "start_time": "2023-07-23T06:12:40.804Z"
   },
   {
    "duration": 81,
    "start_time": "2023-07-23T06:12:43.762Z"
   },
   {
    "duration": 123,
    "start_time": "2023-07-23T06:13:02.700Z"
   },
   {
    "duration": 30,
    "start_time": "2023-07-23T06:13:06.139Z"
   },
   {
    "duration": 565,
    "start_time": "2023-07-23T06:13:08.389Z"
   },
   {
    "duration": 711,
    "start_time": "2023-07-23T06:13:38.596Z"
   },
   {
    "duration": 6773,
    "start_time": "2023-07-23T06:13:50.261Z"
   },
   {
    "duration": 124,
    "start_time": "2023-07-23T06:14:09.900Z"
   },
   {
    "duration": 4,
    "start_time": "2023-07-23T06:15:14.189Z"
   },
   {
    "duration": 17,
    "start_time": "2023-07-23T06:15:44.988Z"
   },
   {
    "duration": 20,
    "start_time": "2023-07-23T06:22:08.812Z"
   },
   {
    "duration": 2231,
    "start_time": "2023-07-23T06:24:11.403Z"
   },
   {
    "duration": 15,
    "start_time": "2023-07-23T06:25:19.676Z"
   },
   {
    "duration": 682,
    "start_time": "2023-07-23T06:25:27.642Z"
   },
   {
    "duration": 461,
    "start_time": "2023-07-23T06:28:38.179Z"
   },
   {
    "duration": 485,
    "start_time": "2023-07-23T06:28:51.053Z"
   },
   {
    "duration": 1620,
    "start_time": "2023-07-24T06:13:59.710Z"
   },
   {
    "duration": 123,
    "start_time": "2023-07-24T06:14:01.332Z"
   },
   {
    "duration": 9,
    "start_time": "2023-07-24T06:14:01.457Z"
   },
   {
    "duration": 46,
    "start_time": "2023-07-24T06:14:01.468Z"
   },
   {
    "duration": 41,
    "start_time": "2023-07-24T06:14:01.515Z"
   },
   {
    "duration": 70,
    "start_time": "2023-07-24T06:14:01.557Z"
   },
   {
    "duration": 250,
    "start_time": "2023-07-24T06:14:01.628Z"
   },
   {
    "duration": 207,
    "start_time": "2023-07-24T06:14:01.879Z"
   },
   {
    "duration": 151,
    "start_time": "2023-07-24T06:14:02.087Z"
   },
   {
    "duration": 0,
    "start_time": "2023-07-24T06:14:02.239Z"
   },
   {
    "duration": 0,
    "start_time": "2023-07-24T06:14:02.241Z"
   },
   {
    "duration": 0,
    "start_time": "2023-07-24T06:14:02.242Z"
   },
   {
    "duration": 0,
    "start_time": "2023-07-24T06:14:02.306Z"
   },
   {
    "duration": 0,
    "start_time": "2023-07-24T06:14:02.308Z"
   },
   {
    "duration": 0,
    "start_time": "2023-07-24T06:14:02.309Z"
   },
   {
    "duration": 0,
    "start_time": "2023-07-24T06:14:02.310Z"
   },
   {
    "duration": 0,
    "start_time": "2023-07-24T06:14:02.312Z"
   },
   {
    "duration": 0,
    "start_time": "2023-07-24T06:14:02.313Z"
   },
   {
    "duration": 0,
    "start_time": "2023-07-24T06:14:02.315Z"
   },
   {
    "duration": 7,
    "start_time": "2023-07-24T06:16:52.948Z"
   },
   {
    "duration": 3,
    "start_time": "2023-07-24T06:18:09.404Z"
   },
   {
    "duration": 106,
    "start_time": "2023-07-24T06:18:09.409Z"
   },
   {
    "duration": 20,
    "start_time": "2023-07-24T06:18:09.517Z"
   },
   {
    "duration": 59,
    "start_time": "2023-07-24T06:18:09.539Z"
   },
   {
    "duration": 97,
    "start_time": "2023-07-24T06:18:09.599Z"
   },
   {
    "duration": 207,
    "start_time": "2023-07-24T06:18:09.698Z"
   },
   {
    "duration": 799,
    "start_time": "2023-07-24T06:18:09.907Z"
   },
   {
    "duration": 300,
    "start_time": "2023-07-24T06:18:10.708Z"
   },
   {
    "duration": 8,
    "start_time": "2023-07-24T06:18:11.100Z"
   },
   {
    "duration": 293,
    "start_time": "2023-07-24T06:18:11.109Z"
   },
   {
    "duration": 53,
    "start_time": "2023-07-24T06:20:40.655Z"
   },
   {
    "duration": 9,
    "start_time": "2023-07-24T06:21:11.047Z"
   },
   {
    "duration": 14,
    "start_time": "2023-07-24T06:21:16.727Z"
   },
   {
    "duration": 7,
    "start_time": "2023-07-24T06:21:19.966Z"
   },
   {
    "duration": 55,
    "start_time": "2023-07-24T06:21:22.053Z"
   },
   {
    "duration": 34,
    "start_time": "2023-07-24T06:21:35.268Z"
   },
   {
    "duration": 17,
    "start_time": "2023-07-24T06:21:43.999Z"
   },
   {
    "duration": 15,
    "start_time": "2023-07-24T06:21:52.365Z"
   },
   {
    "duration": 7,
    "start_time": "2023-07-24T06:21:56.247Z"
   },
   {
    "duration": 167,
    "start_time": "2023-07-24T06:22:02.835Z"
   },
   {
    "duration": 8,
    "start_time": "2023-07-24T06:23:21.908Z"
   },
   {
    "duration": 141,
    "start_time": "2023-07-24T06:23:24.364Z"
   },
   {
    "duration": 305,
    "start_time": "2023-07-24T06:24:32.997Z"
   },
   {
    "duration": 1498,
    "start_time": "2023-07-24T06:39:25.171Z"
   },
   {
    "duration": 48,
    "start_time": "2023-07-24T06:39:26.670Z"
   },
   {
    "duration": 10,
    "start_time": "2023-07-24T06:39:26.720Z"
   },
   {
    "duration": 24,
    "start_time": "2023-07-24T06:39:26.732Z"
   },
   {
    "duration": 6,
    "start_time": "2023-07-24T06:39:26.758Z"
   },
   {
    "duration": 21,
    "start_time": "2023-07-24T06:39:26.766Z"
   },
   {
    "duration": 227,
    "start_time": "2023-07-24T06:39:26.788Z"
   },
   {
    "duration": 220,
    "start_time": "2023-07-24T06:39:27.017Z"
   },
   {
    "duration": 133,
    "start_time": "2023-07-24T06:39:27.239Z"
   },
   {
    "duration": 0,
    "start_time": "2023-07-24T06:39:27.375Z"
   },
   {
    "duration": 0,
    "start_time": "2023-07-24T06:39:27.377Z"
   },
   {
    "duration": 0,
    "start_time": "2023-07-24T06:39:27.378Z"
   },
   {
    "duration": 0,
    "start_time": "2023-07-24T06:39:27.379Z"
   },
   {
    "duration": 0,
    "start_time": "2023-07-24T06:39:27.381Z"
   },
   {
    "duration": 0,
    "start_time": "2023-07-24T06:39:27.382Z"
   },
   {
    "duration": 0,
    "start_time": "2023-07-24T06:39:27.383Z"
   },
   {
    "duration": 0,
    "start_time": "2023-07-24T06:39:27.384Z"
   },
   {
    "duration": 0,
    "start_time": "2023-07-24T06:39:27.400Z"
   },
   {
    "duration": 0,
    "start_time": "2023-07-24T06:39:27.401Z"
   },
   {
    "duration": 4,
    "start_time": "2023-07-24T06:39:43.449Z"
   },
   {
    "duration": 136,
    "start_time": "2023-07-24T06:39:43.456Z"
   },
   {
    "duration": 25,
    "start_time": "2023-07-24T06:39:43.593Z"
   },
   {
    "duration": 30,
    "start_time": "2023-07-24T06:39:43.620Z"
   },
   {
    "duration": 351,
    "start_time": "2023-07-24T06:39:43.652Z"
   },
   {
    "duration": 816,
    "start_time": "2023-07-24T06:39:44.005Z"
   },
   {
    "duration": 17287,
    "start_time": "2023-07-24T06:39:44.823Z"
   },
   {
    "duration": 193,
    "start_time": "2023-07-24T06:40:02.113Z"
   },
   {
    "duration": 29,
    "start_time": "2023-07-24T06:40:02.309Z"
   },
   {
    "duration": 462,
    "start_time": "2023-07-24T06:40:02.340Z"
   },
   {
    "duration": 386,
    "start_time": "2023-07-24T06:40:10.618Z"
   },
   {
    "duration": 1574,
    "start_time": "2023-07-24T07:59:10.390Z"
   },
   {
    "duration": 141,
    "start_time": "2023-07-24T07:59:11.966Z"
   },
   {
    "duration": 10,
    "start_time": "2023-07-24T07:59:12.109Z"
   },
   {
    "duration": 14,
    "start_time": "2023-07-24T07:59:12.121Z"
   },
   {
    "duration": 5,
    "start_time": "2023-07-24T07:59:12.138Z"
   },
   {
    "duration": 15,
    "start_time": "2023-07-24T07:59:12.144Z"
   },
   {
    "duration": 237,
    "start_time": "2023-07-24T07:59:12.161Z"
   },
   {
    "duration": 230,
    "start_time": "2023-07-24T07:59:12.399Z"
   },
   {
    "duration": 11,
    "start_time": "2023-07-24T07:59:22.746Z"
   },
   {
    "duration": 17,
    "start_time": "2023-07-24T07:59:39.907Z"
   },
   {
    "duration": 3,
    "start_time": "2023-07-24T08:09:12.497Z"
   },
   {
    "duration": 50,
    "start_time": "2023-07-24T08:09:12.502Z"
   },
   {
    "duration": 6,
    "start_time": "2023-07-24T08:09:12.555Z"
   },
   {
    "duration": 10,
    "start_time": "2023-07-24T08:09:12.563Z"
   },
   {
    "duration": 5,
    "start_time": "2023-07-24T08:09:12.575Z"
   },
   {
    "duration": 10,
    "start_time": "2023-07-24T08:09:12.581Z"
   },
   {
    "duration": 362,
    "start_time": "2023-07-24T08:09:12.592Z"
   },
   {
    "duration": 120,
    "start_time": "2023-07-24T08:09:19.360Z"
   },
   {
    "duration": 217,
    "start_time": "2023-07-24T08:10:10.512Z"
   },
   {
    "duration": 14,
    "start_time": "2023-07-24T08:10:18.024Z"
   },
   {
    "duration": 715,
    "start_time": "2023-07-24T08:10:25.463Z"
   },
   {
    "duration": 778,
    "start_time": "2023-07-24T08:14:32.067Z"
   },
   {
    "duration": 2109,
    "start_time": "2023-07-24T08:15:04.769Z"
   },
   {
    "duration": 50,
    "start_time": "2023-07-24T08:15:06.880Z"
   },
   {
    "duration": 11,
    "start_time": "2023-07-24T08:15:06.931Z"
   },
   {
    "duration": 11,
    "start_time": "2023-07-24T08:15:06.944Z"
   },
   {
    "duration": 5,
    "start_time": "2023-07-24T08:15:06.956Z"
   },
   {
    "duration": 13,
    "start_time": "2023-07-24T08:15:06.963Z"
   },
   {
    "duration": 251,
    "start_time": "2023-07-24T08:15:06.978Z"
   },
   {
    "duration": 234,
    "start_time": "2023-07-24T08:15:07.230Z"
   },
   {
    "duration": 774,
    "start_time": "2023-07-24T08:15:07.466Z"
   },
   {
    "duration": 3,
    "start_time": "2023-07-24T08:15:08.243Z"
   },
   {
    "duration": 118,
    "start_time": "2023-07-24T08:15:08.248Z"
   },
   {
    "duration": 22,
    "start_time": "2023-07-24T08:15:08.367Z"
   },
   {
    "duration": 33,
    "start_time": "2023-07-24T08:15:08.390Z"
   },
   {
    "duration": 238,
    "start_time": "2023-07-24T08:15:08.424Z"
   },
   {
    "duration": 8369,
    "start_time": "2023-07-24T08:15:08.664Z"
   },
   {
    "duration": 326,
    "start_time": "2023-07-24T08:15:17.035Z"
   },
   {
    "duration": 9,
    "start_time": "2023-07-24T08:15:17.363Z"
   },
   {
    "duration": 15,
    "start_time": "2023-07-24T08:15:17.373Z"
   },
   {
    "duration": 371,
    "start_time": "2023-07-24T08:15:17.390Z"
   },
   {
    "duration": 128,
    "start_time": "2023-07-24T08:16:26.177Z"
   },
   {
    "duration": 1437,
    "start_time": "2023-07-24T08:16:45.406Z"
   },
   {
    "duration": 50,
    "start_time": "2023-07-24T08:16:46.845Z"
   },
   {
    "duration": 11,
    "start_time": "2023-07-24T08:16:46.897Z"
   },
   {
    "duration": 15,
    "start_time": "2023-07-24T08:16:46.910Z"
   },
   {
    "duration": 15,
    "start_time": "2023-07-24T08:16:46.926Z"
   },
   {
    "duration": 17,
    "start_time": "2023-07-24T08:16:46.943Z"
   },
   {
    "duration": 250,
    "start_time": "2023-07-24T08:16:46.962Z"
   },
   {
    "duration": 237,
    "start_time": "2023-07-24T08:16:47.214Z"
   },
   {
    "duration": 771,
    "start_time": "2023-07-24T08:16:47.453Z"
   },
   {
    "duration": 627,
    "start_time": "2023-07-24T08:16:48.226Z"
   },
   {
    "duration": 4,
    "start_time": "2023-07-24T08:16:48.855Z"
   },
   {
    "duration": 106,
    "start_time": "2023-07-24T08:16:48.860Z"
   },
   {
    "duration": 22,
    "start_time": "2023-07-24T08:16:48.968Z"
   },
   {
    "duration": 12,
    "start_time": "2023-07-24T08:16:48.992Z"
   },
   {
    "duration": 138,
    "start_time": "2023-07-24T08:16:49.006Z"
   },
   {
    "duration": 0,
    "start_time": "2023-07-24T08:16:49.146Z"
   },
   {
    "duration": 0,
    "start_time": "2023-07-24T08:16:49.148Z"
   },
   {
    "duration": 0,
    "start_time": "2023-07-24T08:16:49.148Z"
   },
   {
    "duration": 0,
    "start_time": "2023-07-24T08:16:49.149Z"
   },
   {
    "duration": 0,
    "start_time": "2023-07-24T08:16:49.158Z"
   },
   {
    "duration": 33,
    "start_time": "2023-07-24T08:22:29.348Z"
   },
   {
    "duration": 4,
    "start_time": "2023-07-24T08:22:37.869Z"
   },
   {
    "duration": 51,
    "start_time": "2023-07-24T08:22:37.875Z"
   },
   {
    "duration": 6,
    "start_time": "2023-07-24T08:22:37.929Z"
   },
   {
    "duration": 11,
    "start_time": "2023-07-24T08:22:37.937Z"
   },
   {
    "duration": 5,
    "start_time": "2023-07-24T08:22:37.950Z"
   },
   {
    "duration": 11,
    "start_time": "2023-07-24T08:22:37.956Z"
   },
   {
    "duration": 248,
    "start_time": "2023-07-24T08:22:37.969Z"
   },
   {
    "duration": 243,
    "start_time": "2023-07-24T08:22:38.219Z"
   },
   {
    "duration": 786,
    "start_time": "2023-07-24T08:22:38.464Z"
   },
   {
    "duration": 636,
    "start_time": "2023-07-24T08:22:39.252Z"
   },
   {
    "duration": 620,
    "start_time": "2023-07-24T08:22:42.773Z"
   },
   {
    "duration": 1470,
    "start_time": "2023-07-24T08:27:46.947Z"
   },
   {
    "duration": 50,
    "start_time": "2023-07-24T08:27:48.419Z"
   },
   {
    "duration": 11,
    "start_time": "2023-07-24T08:27:48.471Z"
   },
   {
    "duration": 17,
    "start_time": "2023-07-24T08:27:48.483Z"
   },
   {
    "duration": 5,
    "start_time": "2023-07-24T08:27:48.502Z"
   },
   {
    "duration": 26,
    "start_time": "2023-07-24T08:27:48.509Z"
   },
   {
    "duration": 249,
    "start_time": "2023-07-24T08:27:48.536Z"
   },
   {
    "duration": 253,
    "start_time": "2023-07-24T08:27:48.786Z"
   },
   {
    "duration": 783,
    "start_time": "2023-07-24T08:27:49.041Z"
   },
   {
    "duration": 651,
    "start_time": "2023-07-24T08:27:49.826Z"
   },
   {
    "duration": 590,
    "start_time": "2023-07-24T08:27:50.479Z"
   },
   {
    "duration": 4,
    "start_time": "2023-07-24T08:27:51.070Z"
   },
   {
    "duration": 118,
    "start_time": "2023-07-24T08:27:51.075Z"
   },
   {
    "duration": 22,
    "start_time": "2023-07-24T08:27:51.195Z"
   },
   {
    "duration": 18,
    "start_time": "2023-07-24T08:27:51.218Z"
   },
   {
    "duration": 141,
    "start_time": "2023-07-24T08:27:51.238Z"
   },
   {
    "duration": 0,
    "start_time": "2023-07-24T08:27:51.381Z"
   },
   {
    "duration": 0,
    "start_time": "2023-07-24T08:27:51.382Z"
   },
   {
    "duration": 0,
    "start_time": "2023-07-24T08:27:51.383Z"
   },
   {
    "duration": 0,
    "start_time": "2023-07-24T08:27:51.384Z"
   },
   {
    "duration": 0,
    "start_time": "2023-07-24T08:27:51.385Z"
   },
   {
    "duration": 13,
    "start_time": "2023-07-24T08:29:01.863Z"
   },
   {
    "duration": 4,
    "start_time": "2023-07-24T08:29:09.518Z"
   },
   {
    "duration": 4,
    "start_time": "2023-07-24T08:29:21.445Z"
   },
   {
    "duration": 28,
    "start_time": "2023-07-24T08:30:16.365Z"
   },
   {
    "duration": 1468,
    "start_time": "2023-07-24T08:30:37.888Z"
   },
   {
    "duration": 51,
    "start_time": "2023-07-24T08:30:39.360Z"
   },
   {
    "duration": 11,
    "start_time": "2023-07-24T08:30:39.413Z"
   },
   {
    "duration": 19,
    "start_time": "2023-07-24T08:30:39.427Z"
   },
   {
    "duration": 5,
    "start_time": "2023-07-24T08:30:39.449Z"
   },
   {
    "duration": 21,
    "start_time": "2023-07-24T08:30:39.456Z"
   },
   {
    "duration": 252,
    "start_time": "2023-07-24T08:30:39.478Z"
   },
   {
    "duration": 244,
    "start_time": "2023-07-24T08:30:39.732Z"
   },
   {
    "duration": 799,
    "start_time": "2023-07-24T08:30:39.977Z"
   },
   {
    "duration": 758,
    "start_time": "2023-07-24T08:30:40.779Z"
   },
   {
    "duration": 1126,
    "start_time": "2023-07-24T08:30:41.538Z"
   },
   {
    "duration": 4,
    "start_time": "2023-07-24T08:30:42.665Z"
   },
   {
    "duration": 230,
    "start_time": "2023-07-24T08:30:42.670Z"
   },
   {
    "duration": 76,
    "start_time": "2023-07-24T08:30:42.902Z"
   },
   {
    "duration": 12,
    "start_time": "2023-07-24T08:30:42.980Z"
   },
   {
    "duration": 66,
    "start_time": "2023-07-24T08:30:42.994Z"
   },
   {
    "duration": 10,
    "start_time": "2023-07-24T08:30:43.062Z"
   },
   {
    "duration": 220,
    "start_time": "2023-07-24T08:30:43.074Z"
   },
   {
    "duration": 0,
    "start_time": "2023-07-24T08:30:43.296Z"
   },
   {
    "duration": 0,
    "start_time": "2023-07-24T08:30:43.297Z"
   },
   {
    "duration": 0,
    "start_time": "2023-07-24T08:30:43.298Z"
   },
   {
    "duration": 0,
    "start_time": "2023-07-24T08:30:43.299Z"
   },
   {
    "duration": 0,
    "start_time": "2023-07-24T08:30:43.300Z"
   },
   {
    "duration": 92,
    "start_time": "2023-07-24T08:35:07.750Z"
   },
   {
    "duration": 1470,
    "start_time": "2023-07-24T08:36:02.269Z"
   },
   {
    "duration": 48,
    "start_time": "2023-07-24T08:36:03.740Z"
   },
   {
    "duration": 11,
    "start_time": "2023-07-24T08:36:03.790Z"
   },
   {
    "duration": 10,
    "start_time": "2023-07-24T08:36:03.803Z"
   },
   {
    "duration": 9,
    "start_time": "2023-07-24T08:36:03.815Z"
   },
   {
    "duration": 25,
    "start_time": "2023-07-24T08:36:03.826Z"
   },
   {
    "duration": 306,
    "start_time": "2023-07-24T08:36:03.853Z"
   },
   {
    "duration": 257,
    "start_time": "2023-07-24T08:36:04.162Z"
   },
   {
    "duration": 756,
    "start_time": "2023-07-24T08:36:04.421Z"
   },
   {
    "duration": 678,
    "start_time": "2023-07-24T08:36:05.179Z"
   },
   {
    "duration": 632,
    "start_time": "2023-07-24T08:36:05.858Z"
   },
   {
    "duration": 5,
    "start_time": "2023-07-24T08:36:06.492Z"
   },
   {
    "duration": 120,
    "start_time": "2023-07-24T08:36:06.498Z"
   },
   {
    "duration": 20,
    "start_time": "2023-07-24T08:36:06.620Z"
   },
   {
    "duration": 33,
    "start_time": "2023-07-24T08:36:06.642Z"
   },
   {
    "duration": 4,
    "start_time": "2023-07-24T08:36:06.676Z"
   },
   {
    "duration": 8,
    "start_time": "2023-07-24T08:36:06.681Z"
   },
   {
    "duration": 370,
    "start_time": "2023-07-24T08:36:06.690Z"
   },
   {
    "duration": 9255,
    "start_time": "2023-07-24T08:36:07.061Z"
   },
   {
    "duration": 344,
    "start_time": "2023-07-24T08:36:16.318Z"
   },
   {
    "duration": 9,
    "start_time": "2023-07-24T08:36:16.665Z"
   },
   {
    "duration": 9,
    "start_time": "2023-07-24T08:36:16.676Z"
   },
   {
    "duration": 275,
    "start_time": "2023-07-24T08:36:16.687Z"
   },
   {
    "duration": 1548,
    "start_time": "2023-07-24T11:15:48.999Z"
   },
   {
    "duration": 146,
    "start_time": "2023-07-24T11:15:50.549Z"
   },
   {
    "duration": 9,
    "start_time": "2023-07-24T11:15:50.696Z"
   },
   {
    "duration": 11,
    "start_time": "2023-07-24T11:15:50.715Z"
   },
   {
    "duration": 7,
    "start_time": "2023-07-24T11:15:50.728Z"
   },
   {
    "duration": 18,
    "start_time": "2023-07-24T11:15:50.736Z"
   },
   {
    "duration": 238,
    "start_time": "2023-07-24T11:15:50.756Z"
   },
   {
    "duration": 220,
    "start_time": "2023-07-24T11:15:50.996Z"
   },
   {
    "duration": 723,
    "start_time": "2023-07-24T11:15:51.218Z"
   },
   {
    "duration": 658,
    "start_time": "2023-07-24T11:15:51.943Z"
   },
   {
    "duration": 583,
    "start_time": "2023-07-24T11:15:52.603Z"
   },
   {
    "duration": 3,
    "start_time": "2023-07-24T11:15:53.188Z"
   },
   {
    "duration": 109,
    "start_time": "2023-07-24T11:15:53.192Z"
   },
   {
    "duration": 24,
    "start_time": "2023-07-24T11:15:53.302Z"
   },
   {
    "duration": 22,
    "start_time": "2023-07-24T11:15:53.327Z"
   },
   {
    "duration": 6,
    "start_time": "2023-07-24T11:15:53.350Z"
   },
   {
    "duration": 10,
    "start_time": "2023-07-24T11:15:53.357Z"
   },
   {
    "duration": 444,
    "start_time": "2023-07-24T11:15:53.368Z"
   },
   {
    "duration": 8503,
    "start_time": "2023-07-24T11:15:53.905Z"
   },
   {
    "duration": 1503,
    "start_time": "2023-07-24T11:16:02.410Z"
   },
   {
    "duration": 94,
    "start_time": "2023-07-24T11:16:03.916Z"
   },
   {
    "duration": 9,
    "start_time": "2023-07-24T11:16:04.015Z"
   },
   {
    "duration": 287,
    "start_time": "2023-07-24T11:16:04.025Z"
   },
   {
    "duration": 8228,
    "start_time": "2023-07-24T11:16:44.251Z"
   },
   {
    "duration": 3,
    "start_time": "2023-07-24T11:17:12.653Z"
   },
   {
    "duration": 46,
    "start_time": "2023-07-24T11:17:12.660Z"
   },
   {
    "duration": 7,
    "start_time": "2023-07-24T11:17:12.708Z"
   },
   {
    "duration": 30,
    "start_time": "2023-07-24T11:17:12.716Z"
   },
   {
    "duration": 12,
    "start_time": "2023-07-24T11:17:12.747Z"
   },
   {
    "duration": 9,
    "start_time": "2023-07-24T11:17:12.761Z"
   },
   {
    "duration": 211,
    "start_time": "2023-07-24T11:17:12.772Z"
   },
   {
    "duration": 203,
    "start_time": "2023-07-24T11:17:18.370Z"
   },
   {
    "duration": 221,
    "start_time": "2023-07-24T11:18:06.105Z"
   },
   {
    "duration": 240,
    "start_time": "2023-07-24T11:18:22.093Z"
   },
   {
    "duration": 199,
    "start_time": "2023-07-24T11:18:38.130Z"
   },
   {
    "duration": 205,
    "start_time": "2023-07-24T11:18:55.210Z"
   },
   {
    "duration": 113,
    "start_time": "2023-07-24T11:24:58.419Z"
   },
   {
    "duration": 219,
    "start_time": "2023-07-24T11:26:48.211Z"
   },
   {
    "duration": 190,
    "start_time": "2023-07-24T11:27:35.868Z"
   },
   {
    "duration": 218,
    "start_time": "2023-07-24T11:28:22.636Z"
   },
   {
    "duration": 8148,
    "start_time": "2023-07-24T11:31:18.452Z"
   },
   {
    "duration": 8067,
    "start_time": "2023-07-24T11:32:09.096Z"
   },
   {
    "duration": 1356,
    "start_time": "2023-07-24T11:33:43.424Z"
   },
   {
    "duration": 52,
    "start_time": "2023-07-24T11:33:44.782Z"
   },
   {
    "duration": 10,
    "start_time": "2023-07-24T11:33:44.836Z"
   },
   {
    "duration": 27,
    "start_time": "2023-07-24T11:33:44.848Z"
   },
   {
    "duration": 22,
    "start_time": "2023-07-24T11:33:44.878Z"
   },
   {
    "duration": 31,
    "start_time": "2023-07-24T11:33:44.902Z"
   },
   {
    "duration": 217,
    "start_time": "2023-07-24T11:33:44.935Z"
   },
   {
    "duration": 220,
    "start_time": "2023-07-24T11:33:45.154Z"
   },
   {
    "duration": 675,
    "start_time": "2023-07-24T11:33:45.376Z"
   },
   {
    "duration": 644,
    "start_time": "2023-07-24T11:33:46.053Z"
   },
   {
    "duration": 566,
    "start_time": "2023-07-24T11:33:46.699Z"
   },
   {
    "duration": 3,
    "start_time": "2023-07-24T11:33:47.267Z"
   },
   {
    "duration": 108,
    "start_time": "2023-07-24T11:33:47.271Z"
   },
   {
    "duration": 20,
    "start_time": "2023-07-24T11:33:47.381Z"
   },
   {
    "duration": 22,
    "start_time": "2023-07-24T11:33:47.408Z"
   },
   {
    "duration": 4,
    "start_time": "2023-07-24T11:33:47.431Z"
   },
   {
    "duration": 4,
    "start_time": "2023-07-24T11:33:47.436Z"
   },
   {
    "duration": 117,
    "start_time": "2023-07-24T11:33:47.442Z"
   },
   {
    "duration": 0,
    "start_time": "2023-07-24T11:33:47.561Z"
   },
   {
    "duration": 0,
    "start_time": "2023-07-24T11:33:47.562Z"
   },
   {
    "duration": 0,
    "start_time": "2023-07-24T11:33:47.563Z"
   },
   {
    "duration": 0,
    "start_time": "2023-07-24T11:33:47.564Z"
   },
   {
    "duration": 0,
    "start_time": "2023-07-24T11:33:47.565Z"
   },
   {
    "duration": 1617,
    "start_time": "2023-07-24T11:35:01.724Z"
   },
   {
    "duration": 57,
    "start_time": "2023-07-24T11:35:03.344Z"
   },
   {
    "duration": 22,
    "start_time": "2023-07-24T11:35:03.403Z"
   },
   {
    "duration": 23,
    "start_time": "2023-07-24T11:35:03.426Z"
   },
   {
    "duration": 4,
    "start_time": "2023-07-24T11:35:03.452Z"
   },
   {
    "duration": 9,
    "start_time": "2023-07-24T11:35:03.458Z"
   },
   {
    "duration": 219,
    "start_time": "2023-07-24T11:35:03.469Z"
   },
   {
    "duration": 213,
    "start_time": "2023-07-24T11:35:03.689Z"
   },
   {
    "duration": 705,
    "start_time": "2023-07-24T11:35:03.903Z"
   },
   {
    "duration": 666,
    "start_time": "2023-07-24T11:35:04.613Z"
   },
   {
    "duration": 574,
    "start_time": "2023-07-24T11:35:05.280Z"
   },
   {
    "duration": 4,
    "start_time": "2023-07-24T11:35:05.856Z"
   },
   {
    "duration": 164,
    "start_time": "2023-07-24T11:35:05.861Z"
   },
   {
    "duration": 18,
    "start_time": "2023-07-24T11:35:06.028Z"
   },
   {
    "duration": 136,
    "start_time": "2023-07-24T11:35:06.048Z"
   },
   {
    "duration": 4,
    "start_time": "2023-07-24T11:35:06.185Z"
   },
   {
    "duration": 51,
    "start_time": "2023-07-24T11:35:06.190Z"
   },
   {
    "duration": 1972,
    "start_time": "2023-07-24T11:35:06.242Z"
   },
   {
    "duration": 29972,
    "start_time": "2023-07-24T11:35:08.216Z"
   },
   {
    "duration": 2829,
    "start_time": "2023-07-24T11:35:38.190Z"
   },
   {
    "duration": 87,
    "start_time": "2023-07-24T11:35:41.024Z"
   },
   {
    "duration": 12,
    "start_time": "2023-07-24T11:35:41.114Z"
   },
   {
    "duration": 2799,
    "start_time": "2023-07-24T11:35:41.127Z"
   },
   {
    "duration": 16,
    "start_time": "2023-07-24T11:38:09.463Z"
   },
   {
    "duration": 20,
    "start_time": "2023-07-24T11:38:10.824Z"
   },
   {
    "duration": 44,
    "start_time": "2023-07-24T11:38:14.844Z"
   },
   {
    "duration": 4,
    "start_time": "2023-07-24T11:38:18.910Z"
   },
   {
    "duration": 7,
    "start_time": "2023-07-24T11:38:20.504Z"
   },
   {
    "duration": 2586,
    "start_time": "2023-07-24T11:38:23.829Z"
   },
   {
    "duration": 42,
    "start_time": "2023-07-24T11:39:15.141Z"
   },
   {
    "duration": 8,
    "start_time": "2023-07-24T11:39:20.724Z"
   },
   {
    "duration": 12,
    "start_time": "2023-07-24T11:39:25.805Z"
   },
   {
    "duration": 6,
    "start_time": "2023-07-24T11:39:30.423Z"
   },
   {
    "duration": 8,
    "start_time": "2023-07-24T11:39:40.223Z"
   },
   {
    "duration": 4,
    "start_time": "2023-07-24T11:41:22.333Z"
   },
   {
    "duration": 127,
    "start_time": "2023-07-24T11:41:36.445Z"
   },
   {
    "duration": 8,
    "start_time": "2023-07-24T11:42:01.526Z"
   },
   {
    "duration": 4,
    "start_time": "2023-07-24T11:42:08.151Z"
   },
   {
    "duration": 66,
    "start_time": "2023-07-24T11:42:08.158Z"
   },
   {
    "duration": 8,
    "start_time": "2023-07-24T11:42:08.225Z"
   },
   {
    "duration": 14,
    "start_time": "2023-07-24T11:42:08.235Z"
   },
   {
    "duration": 11,
    "start_time": "2023-07-24T11:42:08.251Z"
   },
   {
    "duration": 11,
    "start_time": "2023-07-24T11:42:08.264Z"
   },
   {
    "duration": 279,
    "start_time": "2023-07-24T11:42:08.277Z"
   },
   {
    "duration": 244,
    "start_time": "2023-07-24T11:42:08.558Z"
   },
   {
    "duration": 759,
    "start_time": "2023-07-24T11:42:08.805Z"
   },
   {
    "duration": 683,
    "start_time": "2023-07-24T11:42:09.566Z"
   },
   {
    "duration": 600,
    "start_time": "2023-07-24T11:42:10.252Z"
   },
   {
    "duration": 4,
    "start_time": "2023-07-24T11:42:10.853Z"
   },
   {
    "duration": 21,
    "start_time": "2023-07-24T11:42:13.133Z"
   },
   {
    "duration": 171,
    "start_time": "2023-07-24T11:42:57.254Z"
   },
   {
    "duration": 5,
    "start_time": "2023-07-24T11:43:00.227Z"
   },
   {
    "duration": 9040,
    "start_time": "2023-07-24T11:43:22.957Z"
   },
   {
    "duration": 4,
    "start_time": "2023-07-24T11:43:39.646Z"
   },
   {
    "duration": 79,
    "start_time": "2023-07-24T11:43:39.651Z"
   },
   {
    "duration": 8,
    "start_time": "2023-07-24T11:43:39.732Z"
   },
   {
    "duration": 15,
    "start_time": "2023-07-24T11:43:39.742Z"
   },
   {
    "duration": 6,
    "start_time": "2023-07-24T11:43:39.759Z"
   },
   {
    "duration": 14,
    "start_time": "2023-07-24T11:43:39.767Z"
   },
   {
    "duration": 255,
    "start_time": "2023-07-24T11:43:43.726Z"
   },
   {
    "duration": 6,
    "start_time": "2023-07-24T11:44:02.922Z"
   },
   {
    "duration": 105,
    "start_time": "2023-07-24T11:44:07.518Z"
   },
   {
    "duration": 28,
    "start_time": "2023-07-24T11:44:10.269Z"
   },
   {
    "duration": 28,
    "start_time": "2023-07-24T11:44:15.122Z"
   },
   {
    "duration": 5,
    "start_time": "2023-07-24T11:44:17.478Z"
   },
   {
    "duration": 4,
    "start_time": "2023-07-24T11:44:19.430Z"
   },
   {
    "duration": 1230,
    "start_time": "2023-07-24T11:44:21.803Z"
   },
   {
    "duration": 7838,
    "start_time": "2023-07-24T11:44:25.845Z"
   },
   {
    "duration": 1402,
    "start_time": "2023-07-24T11:44:39.844Z"
   },
   {
    "duration": 57,
    "start_time": "2023-07-24T11:44:41.248Z"
   },
   {
    "duration": 12,
    "start_time": "2023-07-24T11:44:41.307Z"
   },
   {
    "duration": 11,
    "start_time": "2023-07-24T11:44:41.324Z"
   },
   {
    "duration": 8,
    "start_time": "2023-07-24T11:44:41.336Z"
   },
   {
    "duration": 14,
    "start_time": "2023-07-24T11:44:41.345Z"
   },
   {
    "duration": 231,
    "start_time": "2023-07-24T11:44:41.360Z"
   },
   {
    "duration": 223,
    "start_time": "2023-07-24T11:44:41.593Z"
   },
   {
    "duration": 721,
    "start_time": "2023-07-24T11:44:41.817Z"
   },
   {
    "duration": 708,
    "start_time": "2023-07-24T11:44:42.541Z"
   },
   {
    "duration": 612,
    "start_time": "2023-07-24T11:44:43.252Z"
   },
   {
    "duration": 6,
    "start_time": "2023-07-24T11:44:43.866Z"
   },
   {
    "duration": 120,
    "start_time": "2023-07-24T11:44:43.874Z"
   },
   {
    "duration": 31,
    "start_time": "2023-07-24T11:44:43.996Z"
   },
   {
    "duration": 30,
    "start_time": "2023-07-24T11:44:44.029Z"
   },
   {
    "duration": 4,
    "start_time": "2023-07-24T11:44:44.061Z"
   },
   {
    "duration": 6,
    "start_time": "2023-07-24T11:44:44.066Z"
   },
   {
    "duration": 852,
    "start_time": "2023-07-24T11:44:44.074Z"
   },
   {
    "duration": 7906,
    "start_time": "2023-07-24T11:44:44.928Z"
   },
   {
    "duration": 2103,
    "start_time": "2023-07-24T11:44:52.836Z"
   },
   {
    "duration": 25,
    "start_time": "2023-07-24T11:44:55.008Z"
   },
   {
    "duration": 7,
    "start_time": "2023-07-24T11:44:55.036Z"
   },
   {
    "duration": 971,
    "start_time": "2023-07-24T11:44:55.045Z"
   },
   {
    "duration": 3269,
    "start_time": "2023-07-24T20:13:54.342Z"
   },
   {
    "duration": 184,
    "start_time": "2023-07-24T20:13:57.614Z"
   },
   {
    "duration": 11,
    "start_time": "2023-07-24T20:13:57.801Z"
   },
   {
    "duration": 14,
    "start_time": "2023-07-24T20:13:57.815Z"
   },
   {
    "duration": 7,
    "start_time": "2023-07-24T20:13:57.830Z"
   },
   {
    "duration": 30,
    "start_time": "2023-07-24T20:13:57.838Z"
   },
   {
    "duration": 372,
    "start_time": "2023-07-24T20:13:57.871Z"
   },
   {
    "duration": 324,
    "start_time": "2023-07-24T20:13:58.245Z"
   },
   {
    "duration": 1047,
    "start_time": "2023-07-24T20:13:58.571Z"
   },
   {
    "duration": 810,
    "start_time": "2023-07-24T20:13:59.622Z"
   },
   {
    "duration": 769,
    "start_time": "2023-07-24T20:14:00.434Z"
   },
   {
    "duration": 5,
    "start_time": "2023-07-24T20:14:01.206Z"
   },
   {
    "duration": 193,
    "start_time": "2023-07-24T20:14:01.213Z"
   },
   {
    "duration": 25,
    "start_time": "2023-07-24T20:14:01.408Z"
   },
   {
    "duration": 65,
    "start_time": "2023-07-24T20:14:01.435Z"
   },
   {
    "duration": 44,
    "start_time": "2023-07-24T20:14:01.502Z"
   },
   {
    "duration": 49,
    "start_time": "2023-07-24T20:14:01.550Z"
   },
   {
    "duration": 815,
    "start_time": "2023-07-24T20:14:01.601Z"
   },
   {
    "duration": 10610,
    "start_time": "2023-07-24T20:14:02.464Z"
   },
   {
    "duration": 2628,
    "start_time": "2023-07-24T20:14:13.082Z"
   },
   {
    "duration": 59,
    "start_time": "2023-07-24T20:14:15.714Z"
   },
   {
    "duration": 10,
    "start_time": "2023-07-24T20:14:15.776Z"
   },
   {
    "duration": 1071,
    "start_time": "2023-07-24T20:14:15.791Z"
   }
  ],
  "kernelspec": {
   "display_name": "Python 3 (ipykernel)",
   "language": "python",
   "name": "python3"
  },
  "language_info": {
   "codemirror_mode": {
    "name": "ipython",
    "version": 3
   },
   "file_extension": ".py",
   "mimetype": "text/x-python",
   "name": "python",
   "nbconvert_exporter": "python",
   "pygments_lexer": "ipython3",
   "version": "3.9.13"
  },
  "toc": {
   "base_numbering": 1,
   "nav_menu": {},
   "number_sections": true,
   "sideBar": true,
   "skip_h1_title": true,
   "title_cell": "Содержание",
   "title_sidebar": "Contents",
   "toc_cell": true,
   "toc_position": {},
   "toc_section_display": true,
   "toc_window_display": true
  }
 },
 "nbformat": 4,
 "nbformat_minor": 4
}
